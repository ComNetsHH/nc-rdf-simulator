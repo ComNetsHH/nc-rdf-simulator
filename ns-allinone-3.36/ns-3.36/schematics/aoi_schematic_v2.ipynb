{
 "cells": [
  {
   "cell_type": "code",
   "execution_count": 1,
   "metadata": {},
   "outputs": [
    {
     "ename": "ModuleNotFoundError",
     "evalue": "No module named 'scipy'",
     "output_type": "error",
     "traceback": [
      "\u001b[0;31m---------------------------------------------------------------------------\u001b[0m",
      "\u001b[0;31mModuleNotFoundError\u001b[0m                       Traceback (most recent call last)",
      "Cell \u001b[0;32mIn[1], line 7\u001b[0m\n\u001b[1;32m      5\u001b[0m \u001b[39mimport\u001b[39;00m \u001b[39mtime\u001b[39;00m\u001b[39m,\u001b[39m \u001b[39mmath\u001b[39;00m\n\u001b[1;32m      6\u001b[0m \u001b[39mfrom\u001b[39;00m \u001b[39moperator\u001b[39;00m \u001b[39mimport\u001b[39;00m sub\n\u001b[0;32m----> 7\u001b[0m \u001b[39mfrom\u001b[39;00m \u001b[39mscipy\u001b[39;00m\u001b[39m.\u001b[39;00m\u001b[39minterpolate\u001b[39;00m \u001b[39mimport\u001b[39;00m interp1d\n\u001b[1;32m      8\u001b[0m \u001b[39mimport\u001b[39;00m \u001b[39mmatplotlib\u001b[39;00m\n\u001b[1;32m      9\u001b[0m \u001b[39mimport\u001b[39;00m \u001b[39mmatplotlib\u001b[39;00m\u001b[39m.\u001b[39;00m\u001b[39mtransforms\u001b[39;00m \u001b[39mas\u001b[39;00m \u001b[39mtransforms\u001b[39;00m\n",
      "\u001b[0;31mModuleNotFoundError\u001b[0m: No module named 'scipy'"
     ]
    }
   ],
   "source": [
    "import sys, os\n",
    "import json\n",
    "import pandas as pd\n",
    "import numpy as np\n",
    "import time, math\n",
    "from operator import sub\n",
    "from scipy.interpolate import interp1d\n",
    "import matplotlib\n",
    "import matplotlib.transforms as transforms\n",
    "import matplotlib.patches as patches\n",
    "import matplotlib.pyplot as plt\n",
    "import matplotlib.patches as patches\n",
    "import matplotlib_inline.backend_inline\n",
    "\n",
    "matplotlib_inline.backend_inline.set_matplotlib_formats('svg')\n",
    "plt.rcParams.update({\n",
    "    'font.family': 'serif',\n",
    "    \"font.serif\": 'Times',\n",
    "    'font.size': 12,\n",
    "    'text.usetex': True,\n",
    "    'pgf.rcfonts': False,\n",
    "    'figure.dpi': 300,\n",
    "    'savefig.dpi': 300,\n",
    "    'text.latex.preamble': r'\\usepackage{amsmath}'\n",
    "})\n",
    "\n",
    "v = 43\n"
   ]
  },
  {
   "cell_type": "code",
   "execution_count": null,
   "metadata": {},
   "outputs": [
    {
     "ename": "",
     "evalue": "",
     "output_type": "error",
     "traceback": [
      "\u001b[1;31mThe kernel failed to start due to the missing module 'pexpect'. Consider installing this module.\n",
      "\u001b[1;31mClick <a href='https://aka.ms/kernelFailuresMissingModule'>here</a> for more info."
     ]
    }
   ],
   "source": [
    "def add_inset(ax, rect, *args, **kwargs):\n",
    "    box = ax.get_position()\n",
    "    inax_position = ax.transAxes.transform(rect[0:2])\n",
    "    infig_position = ax.figure.transFigure.inverted().transform(inax_position)\n",
    "    new_rect = list(infig_position) + [box.width * rect[2], box.height * rect[3]]\n",
    "    return fig.add_axes(new_rect, *args, **kwargs)"
   ]
  },
  {
   "cell_type": "code",
   "execution_count": null,
   "metadata": {},
   "outputs": [
    {
     "ename": "",
     "evalue": "",
     "output_type": "error",
     "traceback": [
      "\u001b[1;31mThe kernel failed to start due to the missing module 'pexpect'. Consider installing this module.\n",
      "\u001b[1;31mClick <a href='https://aka.ms/kernelFailuresMissingModule'>here</a> for more info."
     ]
    }
   ],
   "source": [
    "t = np.array([1, 2, 2, 3, 3, 5, 5, 6, 6, 10, 10, 11, 11, 12, 12, 14, 14, 15, 15, 16]) -1\n",
    "aoi = np.array([0, 1, 0, 1, 0, 2, 0, 1 , 0, 4, 0, 1, 0, 1, 0, 2, 0, 1, 0, 1])\n",
    "uav_width = 20\n",
    "t_max = 15\n",
    "\n",
    "R = 350\n",
    "R_DECT = 240\n",
    "\n",
    "fig, ax = plt.subplots()\n",
    "ax.set_aspect('equal')\n",
    "ax.set_ylim([-550, 250])\n",
    "ax.set_xlim([-100, 900])\n",
    "\n",
    "width = 1000\n",
    "height = 800\n",
    "\n",
    "center = (0,0)\n",
    "uav_1 = matplotlib.patches.Ellipse(center, width=uav_width, height=uav_width, fill=True, lw=1, ec='#333', fc='#333', clip_on=True)\n",
    "ax.add_patch(uav_1)\n",
    "ax.text(40, 0, 'UAV \\#1', va='center', ha='left', bbox=dict(pad=4, lw=1, fc='#fff', color='#333'))\n",
    "\n",
    "c1 = matplotlib.patches.Ellipse(center, width=2*R, height=2*R, fill=False, lw=1, ec='#333',)\n",
    "ax.add_patch(c1)\n",
    "ax.text(0, -R, '$R$', ha='center', va='center', bbox=dict(pad=2, lw=0, fc='#fff', color='#fff'))\n",
    "ax.text(0, -R_DECT, '$R_\\mathrm{DECT}$', ha='center', va='center', bbox=dict(pad=2, lw=0, fc='#fff', color='#fff'))\n",
    "c1 = matplotlib.patches.Ellipse(center, width=2*R_DECT, height=2*R_DECT, ls=\"--\", fill=False, lw=1, ec='#333',)\n",
    "ax.add_patch(c1)\n",
    "\n",
    "y = np.linspace(-400, 200, 10 * t_max)\n",
    "x = 0.001 * y**2 + 0.6*y + 320\n",
    "\n",
    "blue = \"#226E9C\"\n",
    "color = '#7eb0d5'\n",
    "rcvd_color = '#8bd3c7'\n",
    "aoi_exceeded_color = '#fd7f6f'\n",
    "v_max = 35\n",
    "\n",
    "ax.plot(x,y, color=blue)\n",
    "uav_1 = matplotlib.patches.Ellipse((x[0], y[0]), width=uav_width, height=uav_width, fill=True, lw=1, ec=blue, fc=blue, clip_on=True)\n",
    "ax.add_patch(uav_1)\n",
    "ax.text(x[0], y[0] -60, 'UAV \\#2', va='center', ha='center', bbox=dict(pad=4, lw=1, fc='#fff', color='#333'))\n",
    "\n",
    "for i in range(1, len(t)-1, 2):\n",
    "    ti = t[i-1]\n",
    "    tii = t[i]\n",
    "    xi = x[ti * 10]\n",
    "    yi = y[ti * 10]\n",
    "    xii = x[tii * 10]\n",
    "    yii = y[tii * 10]\n",
    "    a = aoi[i]\n",
    "    r = math.sqrt((xi -xii)**2 + (yi -yii)**2)\n",
    "    ax.plot(x,y, color=blue)\n",
    "    c1 = matplotlib.patches.Ellipse((xi, yi), width=2*r, height=2*r, lw=1, fc=blue, alpha = 0.2)\n",
    "    ax.add_patch(c1)\n",
    "\n",
    "    uav_1 = matplotlib.patches.Ellipse((xi, yi), width=12, height=12, fill=True, lw=1, ec=blue, fc=blue, clip_on=True)\n",
    "    ax.add_patch(uav_1)\n",
    "\n",
    "# xi = x[(len(t)-4)* 10]\n",
    "# yi = y[(len(t)-4)* 10]\n",
    "# uav_1 = matplotlib.patches.Ellipse((xi, yi), width=12, height=12, fill=True, lw=1, ec=blue, fc=blue, clip_on=True)\n",
    "# ax.add_patch(uav_1)\n",
    "\n",
    "## INSETS#\n",
    "ts = np.array(range(len(x))) / len(x) * t_max\n",
    "dist = np.sqrt(x**2+ y**2)\n",
    "t_r_min = np.min(ts[dist < R])\n",
    "t_r_max = np.max(ts[dist < R])\n",
    "#a = matplotlib.patches.Rectangle((400, -50), width=580, height=180, lw=0, fc='#fff', zorder=2)\n",
    "#ax.add_patch(a)\n",
    "ax2 = add_inset(ax, [500/width, 500/height, 580/width, 180/height])\n",
    "\n",
    "ax2.plot(t, aoi, lw=1, color=color)\n",
    "ax2.text(t_max + 0.1, 80/v_max, '$T_\\mathrm{CADA}$', ha='left', va='center')\n",
    "ax2.plot([0, t_max],[80/v_max, 80/v_max], '-', color='#808080', lw=1)\n",
    "ax2.fill_between([t_r_min, t_r_max],[-0.5,-0.5],[4.5,4.5], color='#ebebeb')\n",
    "ax2.set_ylim([-0.5, 4.5])\n",
    "ax2.set_xlim([0, t_max + 3.5])\n",
    "\n",
    "for t_i, aoi_i in zip(t, aoi):\n",
    "    if aoi_i > 0:\n",
    "        c_i = aoi_exceeded_color if aoi_i > 80/v_max else rcvd_color\n",
    "        icon_i = 'x' if aoi_i > 80/v_max else '.'\n",
    "        ax2.plot(t_i, aoi_i, icon_i, color=c_i, lw=1)\n",
    "\n",
    "ax2.set_xticks([])\n",
    "ax2.set_yticks([])\n",
    "ax2.set_ylabel(r'$\\mathrm{AoI}$', labelpad=0, fontsize=10)\n",
    "\n",
    "#a = matplotlib.patches.Rectangle((400, -150), width=580, height=180, lw=0, fc='#fff', zorder=2)\n",
    "#ax.add_patch(a)\n",
    "\n",
    "ax3 = add_inset(ax, [500/width, 300/height, 580/width, 180/height])\n",
    "ax3.plot(ts, dist, lw=1, color='#333')\n",
    "\n",
    "ax3.fill_between([t_r_min, t_r_max],[180,180],[500,500], color='#ebebeb')\n",
    "\n",
    "ax3.text(t_max + 0.1, R_DECT, '$R_\\mathrm{DECT}$', ha='left', va='center')\n",
    "ax3.plot([0, t_max],[R_DECT, R_DECT], '--', color='#808080', lw=1)\n",
    "ax3.text(t_max + 0.1, R, '$R$', ha='left', va='center')\n",
    "ax3.plot([0, t_max],[R, R], '-', color='#808080', lw=1)\n",
    "ax3.set_ylim([180, 500])\n",
    "ax3.set_xlim([0, t_max + 3.5])\n",
    "ax3.set_xticks([])\n",
    "ax3.set_yticks([])\n",
    "ax3.set_ylabel(r'Distance', labelpad=0, fontsize=10)\n",
    "ax3.set_xlabel('t', labelpad=0)\n",
    "\n",
    "## Arrows\n",
    "ax.text(100, 160, 'Position \\nUncertainty', ha='right', va='center', bbox=dict(pad=2, lw=1, fc='#fff', color='#fff', alpha=0.6))\n",
    "arrow = patches.FancyArrowPatch((110, 160), (290, 100), connectionstyle=f\"arc3,rad=-0.3\", arrowstyle=\"Simple, tail_width=0, head_width=4, head_length=8\", color='#333')\n",
    "ax.add_patch(arrow)\n",
    "\n",
    "ax.text(400, -400, 'Position Updates of UAV \\#2\\n received by UAV \\#1', ha='left', va='center', bbox=dict(pad=2, lw=1, fc='#fff', color='#fff', alpha=0.6))\n",
    "for i in range(1, 8, 2):\n",
    "    ti = t[i-1]\n",
    "    tii = t[i]\n",
    "    xi = x[ti * 10]\n",
    "    yi = y[ti * 10]\n",
    "    arrow = patches.FancyArrowPatch((390, -400), (xi, yi), connectionstyle=f\"arc3,rad=0.3\", arrowstyle=\"Simple, tail_width=0, head_width=4, head_length=8\", color='#333')\n",
    "    ax.add_patch(arrow)\n",
    "\n",
    "# Spines\n",
    "\n",
    "ax.set_xticks([])\n",
    "ax.set_yticks([])\n",
    "ax.spines.right.set_visible(False)\n",
    "ax.spines.top.set_visible(False)\n",
    "ax.spines.bottom.set_visible(False)\n",
    "ax.spines.left.set_visible(False)\n",
    "\n",
    "ax.plot(-1000, 0, 'x', color=aoi_exceeded_color, lw=1, label='AoI Exceeded Event')\n",
    "ax.plot(-1000, 0, '.', color=rcvd_color, lw=1,  label='AoI Met Event')\n",
    "leg = ax.legend(loc='lower right', prop={'size': 10}, fancybox=False, framealpha=1.0, handletextpad=0)\n",
    "leg.get_frame().set_edgecolor('#333')\n",
    "fig.tight_layout()\n",
    "\n",
    "fig.savefig(f\"../figures/advanced_aoi_schematic_v{v}.pdf\", dpi=500, bbox_inches='tight', pad_inches=0.1)\n",
    "fig.savefig(f\"../figures/advanced_aoi_schematic_v{v}.png\", dpi=500, bbox_inches='tight', pad_inches=0.1)\n",
    "\n",
    "\n",
    "plt.show()"
   ]
  },
  {
   "cell_type": "code",
   "execution_count": null,
   "metadata": {},
   "outputs": [
    {
     "ename": "",
     "evalue": "",
     "output_type": "error",
     "traceback": [
      "\u001b[1;31mThe kernel failed to start due to the missing module 'pexpect'. Consider installing this module.\n",
      "\u001b[1;31mClick <a href='https://aka.ms/kernelFailuresMissingModule'>here</a> for more info."
     ]
    }
   ],
   "source": []
  },
  {
   "cell_type": "code",
   "execution_count": null,
   "metadata": {},
   "outputs": [
    {
     "ename": "",
     "evalue": "",
     "output_type": "error",
     "traceback": [
      "\u001b[1;31mThe kernel failed to start due to the missing module 'pexpect'. Consider installing this module.\n",
      "\u001b[1;31mClick <a href='https://aka.ms/kernelFailuresMissingModule'>here</a> for more info."
     ]
    }
   ],
   "source": []
  }
 ],
 "metadata": {
  "kernelspec": {
   "display_name": "Python 3",
   "language": "python",
   "name": "python3"
  },
  "language_info": {
   "codemirror_mode": {
    "name": "ipython",
    "version": 3
   },
   "file_extension": ".py",
   "mimetype": "text/x-python",
   "name": "python",
   "nbconvert_exporter": "python",
   "pygments_lexer": "ipython3",
   "version": "3.9.0"
  },
  "orig_nbformat": 4,
  "vscode": {
   "interpreter": {
    "hash": "060863306db686882bc5e38f64a30492fd2b903e973dc099ca089ecbd1580ca6"
   }
  }
 },
 "nbformat": 4,
 "nbformat_minor": 2
}
